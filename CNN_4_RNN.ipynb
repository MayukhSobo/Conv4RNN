{
 "cells": [
  {
   "cell_type": "code",
   "execution_count": 1,
   "metadata": {},
   "outputs": [],
   "source": [
    "from preprocess import TextReader\n",
    "import pandas as pd\n",
    "from pyemd import emd\n",
    "from gensim.models import KeyedVectors"
   ]
  },
  {
   "cell_type": "code",
   "execution_count": 2,
   "metadata": {},
   "outputs": [],
   "source": [
    "model = KeyedVectors.load_word2vec_format('../GoogleNews-vectors-negative300.bin',\n",
    "                                         binary=True)"
   ]
  },
  {
   "cell_type": "code",
   "execution_count": 3,
   "metadata": {},
   "outputs": [],
   "source": [
    "def process_word_vectors(model, base_path, suffix):\n",
    "    tr = TextReader(data_dir=base_path, \n",
    "                    suffix_labels=suffix)\n",
    "    print(tr.data_files)\n",
    "    if tr.prepare_data(clean=True):\n",
    "        X, y = tr.get_ranked_features()\n",
    "    wv = tr.get_embedding_vector(model)\n",
    "    word_vectors = {}\n",
    "    for word, vector in wv:\n",
    "        word_vectors[word] = vector\n",
    "    word_vectors_df = pd.DataFrame.from_dict(word_vectors, orient='index')\n",
    "    return X, y, word_vectors_df"
   ]
  },
  {
   "cell_type": "code",
   "execution_count": 4,
   "metadata": {},
   "outputs": [
    {
     "name": "stdout",
     "output_type": "stream",
     "text": [
      "{'./rt-polarity.pos': 1, './rt-polarity.neg': 0}\n"
     ]
    },
    {
     "name": "stderr",
     "output_type": "stream",
     "text": [
      "100%|██████████| 5331/5331 [00:15<00:00, 333.91it/s]\n",
      "100%|██████████| 5331/5331 [00:16<00:00, 320.25it/s]\n"
     ]
    }
   ],
   "source": [
    "X, y, wv = process_word_vectors(model, './', \n",
    "                                suffix={'rt-polarity.pos': 1, \n",
    "                                        'rt-polarity.neg': 0})"
   ]
  },
  {
   "cell_type": "code",
   "execution_count": 7,
   "metadata": {},
   "outputs": [
    {
     "data": {
      "text/plain": [
       "(10662, 51)"
      ]
     },
     "execution_count": 7,
     "metadata": {},
     "output_type": "execute_result"
    }
   ],
   "source": [
    "X.shape"
   ]
  },
  {
   "cell_type": "code",
   "execution_count": 8,
   "metadata": {},
   "outputs": [
    {
     "data": {
      "text/plain": [
       "(10662,)"
      ]
     },
     "execution_count": 8,
     "metadata": {},
     "output_type": "execute_result"
    }
   ],
   "source": [
    "y.shape"
   ]
  },
  {
   "cell_type": "code",
   "execution_count": 9,
   "metadata": {},
   "outputs": [
    {
     "data": {
      "text/html": [
       "<div>\n",
       "<style scoped>\n",
       "    .dataframe tbody tr th:only-of-type {\n",
       "        vertical-align: middle;\n",
       "    }\n",
       "\n",
       "    .dataframe tbody tr th {\n",
       "        vertical-align: top;\n",
       "    }\n",
       "\n",
       "    .dataframe thead th {\n",
       "        text-align: right;\n",
       "    }\n",
       "</style>\n",
       "<table border=\"1\" class=\"dataframe\">\n",
       "  <thead>\n",
       "    <tr style=\"text-align: right;\">\n",
       "      <th></th>\n",
       "      <th>0</th>\n",
       "      <th>1</th>\n",
       "      <th>2</th>\n",
       "      <th>3</th>\n",
       "      <th>4</th>\n",
       "      <th>5</th>\n",
       "      <th>6</th>\n",
       "      <th>7</th>\n",
       "      <th>8</th>\n",
       "      <th>9</th>\n",
       "      <th>...</th>\n",
       "      <th>290</th>\n",
       "      <th>291</th>\n",
       "      <th>292</th>\n",
       "      <th>293</th>\n",
       "      <th>294</th>\n",
       "      <th>295</th>\n",
       "      <th>296</th>\n",
       "      <th>297</th>\n",
       "      <th>298</th>\n",
       "      <th>299</th>\n",
       "    </tr>\n",
       "  </thead>\n",
       "  <tbody>\n",
       "    <tr>\n",
       "      <th>the</th>\n",
       "      <td>0.080078</td>\n",
       "      <td>0.104980</td>\n",
       "      <td>0.049805</td>\n",
       "      <td>0.053467</td>\n",
       "      <td>-0.067383</td>\n",
       "      <td>-0.120605</td>\n",
       "      <td>0.035156</td>\n",
       "      <td>-0.118652</td>\n",
       "      <td>0.043945</td>\n",
       "      <td>0.030151</td>\n",
       "      <td>...</td>\n",
       "      <td>-0.071289</td>\n",
       "      <td>-0.030151</td>\n",
       "      <td>-0.013000</td>\n",
       "      <td>0.016357</td>\n",
       "      <td>-0.018311</td>\n",
       "      <td>0.014832</td>\n",
       "      <td>0.005005</td>\n",
       "      <td>0.003662</td>\n",
       "      <td>0.047607</td>\n",
       "      <td>-0.068848</td>\n",
       "    </tr>\n",
       "    <tr>\n",
       "      <th>rock</th>\n",
       "      <td>0.106445</td>\n",
       "      <td>0.005920</td>\n",
       "      <td>-0.018433</td>\n",
       "      <td>0.186523</td>\n",
       "      <td>-0.065430</td>\n",
       "      <td>-0.115723</td>\n",
       "      <td>-0.009827</td>\n",
       "      <td>-0.392578</td>\n",
       "      <td>0.010010</td>\n",
       "      <td>0.091797</td>\n",
       "      <td>...</td>\n",
       "      <td>0.097168</td>\n",
       "      <td>0.171875</td>\n",
       "      <td>-0.300781</td>\n",
       "      <td>0.014771</td>\n",
       "      <td>-0.120605</td>\n",
       "      <td>-0.008057</td>\n",
       "      <td>0.071289</td>\n",
       "      <td>0.026367</td>\n",
       "      <td>0.081543</td>\n",
       "      <td>0.091797</td>\n",
       "    </tr>\n",
       "    <tr>\n",
       "      <th>is</th>\n",
       "      <td>0.007050</td>\n",
       "      <td>-0.073242</td>\n",
       "      <td>0.171875</td>\n",
       "      <td>0.022583</td>\n",
       "      <td>-0.132812</td>\n",
       "      <td>0.198242</td>\n",
       "      <td>0.112793</td>\n",
       "      <td>-0.107910</td>\n",
       "      <td>0.071777</td>\n",
       "      <td>0.020874</td>\n",
       "      <td>...</td>\n",
       "      <td>-0.233398</td>\n",
       "      <td>-0.036377</td>\n",
       "      <td>-0.093750</td>\n",
       "      <td>0.182617</td>\n",
       "      <td>0.027100</td>\n",
       "      <td>0.127930</td>\n",
       "      <td>-0.024780</td>\n",
       "      <td>0.011230</td>\n",
       "      <td>0.164062</td>\n",
       "      <td>0.106934</td>\n",
       "    </tr>\n",
       "    <tr>\n",
       "      <th>destined</th>\n",
       "      <td>0.197266</td>\n",
       "      <td>0.462891</td>\n",
       "      <td>0.004974</td>\n",
       "      <td>0.168945</td>\n",
       "      <td>-0.040527</td>\n",
       "      <td>0.053467</td>\n",
       "      <td>0.212891</td>\n",
       "      <td>-0.096680</td>\n",
       "      <td>0.090332</td>\n",
       "      <td>0.312500</td>\n",
       "      <td>...</td>\n",
       "      <td>-0.031738</td>\n",
       "      <td>-0.112305</td>\n",
       "      <td>0.045166</td>\n",
       "      <td>-0.012573</td>\n",
       "      <td>0.291016</td>\n",
       "      <td>-0.078125</td>\n",
       "      <td>-0.103516</td>\n",
       "      <td>-0.206055</td>\n",
       "      <td>0.195312</td>\n",
       "      <td>-0.136719</td>\n",
       "    </tr>\n",
       "    <tr>\n",
       "      <th>to</th>\n",
       "      <td>0.056468</td>\n",
       "      <td>0.037182</td>\n",
       "      <td>-0.192516</td>\n",
       "      <td>0.061559</td>\n",
       "      <td>-0.165746</td>\n",
       "      <td>0.034046</td>\n",
       "      <td>0.134556</td>\n",
       "      <td>-0.020491</td>\n",
       "      <td>0.031561</td>\n",
       "      <td>-0.128505</td>\n",
       "      <td>...</td>\n",
       "      <td>0.018980</td>\n",
       "      <td>0.157198</td>\n",
       "      <td>-0.118493</td>\n",
       "      <td>0.018174</td>\n",
       "      <td>-0.044386</td>\n",
       "      <td>-0.098020</td>\n",
       "      <td>-0.081662</td>\n",
       "      <td>-0.102019</td>\n",
       "      <td>0.245180</td>\n",
       "      <td>-0.218180</td>\n",
       "    </tr>\n",
       "  </tbody>\n",
       "</table>\n",
       "<p>5 rows × 300 columns</p>\n",
       "</div>"
      ],
      "text/plain": [
       "               0         1         2         3         4         5    \\\n",
       "the       0.080078  0.104980  0.049805  0.053467 -0.067383 -0.120605   \n",
       "rock      0.106445  0.005920 -0.018433  0.186523 -0.065430 -0.115723   \n",
       "is        0.007050 -0.073242  0.171875  0.022583 -0.132812  0.198242   \n",
       "destined  0.197266  0.462891  0.004974  0.168945 -0.040527  0.053467   \n",
       "to        0.056468  0.037182 -0.192516  0.061559 -0.165746  0.034046   \n",
       "\n",
       "               6         7         8         9      ...          290  \\\n",
       "the       0.035156 -0.118652  0.043945  0.030151    ...    -0.071289   \n",
       "rock     -0.009827 -0.392578  0.010010  0.091797    ...     0.097168   \n",
       "is        0.112793 -0.107910  0.071777  0.020874    ...    -0.233398   \n",
       "destined  0.212891 -0.096680  0.090332  0.312500    ...    -0.031738   \n",
       "to        0.134556 -0.020491  0.031561 -0.128505    ...     0.018980   \n",
       "\n",
       "               291       292       293       294       295       296  \\\n",
       "the      -0.030151 -0.013000  0.016357 -0.018311  0.014832  0.005005   \n",
       "rock      0.171875 -0.300781  0.014771 -0.120605 -0.008057  0.071289   \n",
       "is       -0.036377 -0.093750  0.182617  0.027100  0.127930 -0.024780   \n",
       "destined -0.112305  0.045166 -0.012573  0.291016 -0.078125 -0.103516   \n",
       "to        0.157198 -0.118493  0.018174 -0.044386 -0.098020 -0.081662   \n",
       "\n",
       "               297       298       299  \n",
       "the       0.003662  0.047607 -0.068848  \n",
       "rock      0.026367  0.081543  0.091797  \n",
       "is        0.011230  0.164062  0.106934  \n",
       "destined -0.206055  0.195312 -0.136719  \n",
       "to       -0.102019  0.245180 -0.218180  \n",
       "\n",
       "[5 rows x 300 columns]"
      ]
     },
     "execution_count": 9,
     "metadata": {},
     "output_type": "execute_result"
    }
   ],
   "source": [
    "wv.head()"
   ]
  },
  {
   "cell_type": "code",
   "execution_count": null,
   "metadata": {},
   "outputs": [],
   "source": []
  }
 ],
 "metadata": {
  "kernelspec": {
   "display_name": "Python 3",
   "language": "python",
   "name": "python3"
  },
  "language_info": {
   "codemirror_mode": {
    "name": "ipython",
    "version": 3
   },
   "file_extension": ".py",
   "mimetype": "text/x-python",
   "name": "python",
   "nbconvert_exporter": "python",
   "pygments_lexer": "ipython3",
   "version": "3.6.6"
  }
 },
 "nbformat": 4,
 "nbformat_minor": 2
}
