{
 "cells": [
  {
   "cell_type": "code",
   "execution_count": 1,
   "metadata": {
    "ExecuteTime": {
     "end_time": "2019-02-28T06:46:47.339374Z",
     "start_time": "2019-02-28T06:46:46.027527Z"
    }
   },
   "outputs": [
    {
     "name": "stderr",
     "output_type": "stream",
     "text": [
      "/usr/local/lib/python3.6/dist-packages/h5py/__init__.py:36: FutureWarning: Conversion of the second argument of issubdtype from `float` to `np.floating` is deprecated. In future, it will be treated as `np.float64 == np.dtype(float).type`.\n",
      "  from ._conv import register_converters as _register_converters\n"
     ]
    }
   ],
   "source": [
    "from preprocess import TextReader\n",
    "from train import CNNText\n",
    "import pandas as pd\n",
    "from pyemd import emd\n",
    "import numpy as np\n",
    "from gensim.models import KeyedVectors\n",
    "from sklearn.model_selection import train_test_split\n",
    "from model import Model"
   ]
  },
  {
   "cell_type": "markdown",
   "metadata": {},
   "source": [
    "## 0. Some helper functions"
   ]
  },
  {
   "cell_type": "code",
   "execution_count": 2,
   "metadata": {},
   "outputs": [],
   "source": [
    "from tensorflow.python.client import device_lib\n",
    "def get_available_gpus():\n",
    "    local_device_protos = device_lib.list_local_devices()\n",
    "    return [x.name for x in local_device_protos if x.device_type == 'GPU']"
   ]
  },
  {
   "cell_type": "code",
   "execution_count": 3,
   "metadata": {},
   "outputs": [
    {
     "data": {
      "text/plain": [
       "['/device:GPU:0']"
      ]
     },
     "execution_count": 3,
     "metadata": {},
     "output_type": "execute_result"
    }
   ],
   "source": [
    "get_available_gpus()"
   ]
  },
  {
   "cell_type": "markdown",
   "metadata": {},
   "source": [
    "## 1. Loading the pretrained word vector"
   ]
  },
  {
   "cell_type": "code",
   "execution_count": null,
   "metadata": {},
   "outputs": [],
   "source": [
    "model = KeyedVectors.load_word2vec_format('../GoogleNews-vectors-negative300.bin',\n",
    "                                         binary=True)"
   ]
  },
  {
   "cell_type": "markdown",
   "metadata": {},
   "source": [
    "## 2. Process the data and convert words into vectors"
   ]
  },
  {
   "cell_type": "code",
   "execution_count": 4,
   "metadata": {
    "ExecuteTime": {
     "end_time": "2019-02-28T06:54:22.250608Z",
     "start_time": "2019-02-28T06:54:22.239263Z"
    }
   },
   "outputs": [],
   "source": [
    "def process_word_vectors(base_path, suffix, pretrained=False, **kwargs):\n",
    "    tr = TextReader(data_dir=base_path, \n",
    "                    suffix_labels=suffix)\n",
    "    print(tr.data_files)\n",
    "    if tr.prepare_data(clean=True):\n",
    "        X, y = tr.get_ranked_features()\n",
    "    word_vectors_df = None\n",
    "    if pretrained:\n",
    "        model = kwargs.get('model')\n",
    "        if model is None:\n",
    "            raise ValueError('Model can not be None')\n",
    "        wv = tr.get_embedding_vector(model)\n",
    "        word_vectors = {}\n",
    "        for word, vector in wv:\n",
    "            word_vectors[tr.get_rank(word)] = vector\n",
    "        word_vectors_df = pd.DataFrame.from_dict(word_vectors, orient='index')\n",
    "    return X, y, word_vectors_df"
   ]
  },
  {
   "cell_type": "code",
   "execution_count": 5,
   "metadata": {
    "ExecuteTime": {
     "end_time": "2019-02-28T06:54:23.237296Z",
     "start_time": "2019-02-28T06:54:23.088406Z"
    }
   },
   "outputs": [
    {
     "name": "stdout",
     "output_type": "stream",
     "text": [
      "CNN_4_RNN.ipynb  __pycache__  data\tpreprocess.py  train.py\r\n",
      "README.md\t batch.py     model.py\ttrain\t       valid\r\n"
     ]
    }
   ],
   "source": [
    "!ls"
   ]
  },
  {
   "cell_type": "code",
   "execution_count": 6,
   "metadata": {
    "ExecuteTime": {
     "end_time": "2019-02-28T06:55:05.890246Z",
     "start_time": "2019-02-28T06:54:24.550316Z"
    }
   },
   "outputs": [
    {
     "name": "stdout",
     "output_type": "stream",
     "text": [
      "{'./data/mr.pos': 1, './data/mr.neg': 0}\n"
     ]
    },
    {
     "name": "stderr",
     "output_type": "stream",
     "text": [
      "100%|██████████| 5331/5331 [00:16<00:00, 329.91it/s]\n",
      "100%|██████████| 5331/5331 [00:16<00:00, 331.68it/s]\n"
     ]
    }
   ],
   "source": [
    "X, y, _ = process_word_vectors('./data/', \n",
    "                                suffix={'mr.pos': 1, \n",
    "                                        'mr.neg': 0})"
   ]
  },
  {
   "cell_type": "code",
   "execution_count": 7,
   "metadata": {
    "ExecuteTime": {
     "end_time": "2019-02-28T06:55:13.198981Z",
     "start_time": "2019-02-28T06:55:13.169040Z"
    }
   },
   "outputs": [
    {
     "data": {
      "text/plain": [
       "(10662, 51)"
      ]
     },
     "execution_count": 7,
     "metadata": {},
     "output_type": "execute_result"
    }
   ],
   "source": [
    "X.shape"
   ]
  },
  {
   "cell_type": "code",
   "execution_count": 8,
   "metadata": {
    "ExecuteTime": {
     "end_time": "2019-02-28T06:55:17.299368Z",
     "start_time": "2019-02-28T06:55:17.290605Z"
    }
   },
   "outputs": [
    {
     "data": {
      "text/plain": [
       "(10662,)"
      ]
     },
     "execution_count": 8,
     "metadata": {},
     "output_type": "execute_result"
    }
   ],
   "source": [
    "y.shape"
   ]
  },
  {
   "cell_type": "code",
   "execution_count": 9,
   "metadata": {
    "ExecuteTime": {
     "end_time": "2019-02-28T06:55:24.161743Z",
     "start_time": "2019-02-28T06:55:24.132735Z"
    }
   },
   "outputs": [],
   "source": [
    "X_train, X_test, y_train, y_test = train_test_split(X, y, test_size=0.2, random_state=42)"
   ]
  },
  {
   "cell_type": "code",
   "execution_count": 12,
   "metadata": {
    "ExecuteTime": {
     "end_time": "2019-02-28T06:55:26.665679Z",
     "start_time": "2019-02-28T06:55:26.627895Z"
    }
   },
   "outputs": [
    {
     "name": "stderr",
     "output_type": "stream",
     "text": [
      "mkdir: cannot create directory 'train': File exists\n",
      "mkdir: cannot create directory 'valid': File exists\n"
     ]
    }
   ],
   "source": [
    "%%sh\n",
    "\n",
    "mkdir train valid"
   ]
  },
  {
   "cell_type": "code",
   "execution_count": 10,
   "metadata": {
    "ExecuteTime": {
     "end_time": "2019-02-28T06:55:28.832675Z",
     "start_time": "2019-02-28T06:55:28.762417Z"
    }
   },
   "outputs": [],
   "source": [
    "np.save('./train/X_train', X_train)\n",
    "np.save('./train/y_train', y_train)\n",
    "\n",
    "np.save('./valid/X_valid', X_test)\n",
    "np.save('./valid/y_train', y_test)"
   ]
  },
  {
   "cell_type": "code",
   "execution_count": 11,
   "metadata": {
    "ExecuteTime": {
     "end_time": "2019-02-28T06:55:30.051741Z",
     "start_time": "2019-02-28T06:55:29.915259Z"
    }
   },
   "outputs": [
    {
     "name": "stdout",
     "output_type": "stream",
     "text": [
      "X_train.npy  y_train.npy\r\n"
     ]
    }
   ],
   "source": [
    "!ls train/"
   ]
  },
  {
   "cell_type": "code",
   "execution_count": 12,
   "metadata": {
    "ExecuteTime": {
     "end_time": "2019-02-28T06:55:31.589585Z",
     "start_time": "2019-02-28T06:55:31.453623Z"
    }
   },
   "outputs": [
    {
     "name": "stdout",
     "output_type": "stream",
     "text": [
      "X_valid.npy  y_train.npy\r\n"
     ]
    }
   ],
   "source": [
    "!ls valid/"
   ]
  },
  {
   "cell_type": "markdown",
   "metadata": {},
   "source": [
    "## Testing the batch Iterators"
   ]
  },
  {
   "cell_type": "code",
   "execution_count": 13,
   "metadata": {
    "ExecuteTime": {
     "end_time": "2019-02-28T06:55:35.532301Z",
     "start_time": "2019-02-28T06:55:35.521354Z"
    }
   },
   "outputs": [],
   "source": [
    "cnnText = CNNText(\n",
    "    train_path='./train/',\n",
    "    valid_path='./valid/',\n",
    "    epochs=50,\n",
    "    batch_size=50\n",
    ")"
   ]
  },
  {
   "cell_type": "code",
   "execution_count": 14,
   "metadata": {
    "ExecuteTime": {
     "end_time": "2019-02-28T06:56:18.367908Z",
     "start_time": "2019-02-28T06:55:38.735327Z"
    }
   },
   "outputs": [
    {
     "name": "stderr",
     "output_type": "stream",
     "text": [
      "Epoch 1: 100%|##########| 170/170 [00:00<00:00, 744.64it/s, train_loss=17, valid_loss=17]    \n",
      "Epoch 2: 100%|##########| 170/170 [00:00<00:00, 900.58it/s, train_loss=17.1, valid_loss=17.1]\n",
      "Epoch 3: 100%|##########| 170/170 [00:00<00:00, 1092.54it/s, train_loss=17.2, valid_loss=17.2]\n",
      "Epoch 4: 100%|##########| 170/170 [00:00<00:00, 1073.89it/s, train_loss=17.3, valid_loss=17.3]\n",
      "Epoch 5: 100%|##########| 170/170 [00:00<00:00, 1019.17it/s, train_loss=17.4, valid_loss=17.4]\n",
      "Epoch 6: 100%|##########| 170/170 [00:00<00:00, 1186.86it/s, train_loss=17.5, valid_loss=17.5]\n",
      "Epoch 7: 100%|##########| 170/170 [00:00<00:00, 1267.70it/s, train_loss=17.6, valid_loss=17.6]\n",
      "Epoch 8: 100%|##########| 170/170 [00:00<00:00, 1161.85it/s, train_loss=17.7, valid_loss=17.7]\n",
      "Epoch 9: 100%|##########| 170/170 [00:00<00:00, 1195.04it/s, train_loss=17.8, valid_loss=17.8]\n",
      "Epoch 10: 100%|##########| 170/170 [00:00<00:00, 1245.00it/s, train_loss=17.9, valid_loss=17.9]\n",
      "Epoch 11: 100%|##########| 170/170 [00:00<00:00, 1097.33it/s, train_loss=18, valid_loss=18]    \n",
      "Epoch 12: 100%|##########| 170/170 [00:00<00:00, 1154.78it/s, train_loss=18.1, valid_loss=18.1]\n",
      "Epoch 13: 100%|##########| 170/170 [00:00<00:00, 1102.16it/s, train_loss=18.2, valid_loss=18.2]\n",
      "Epoch 14: 100%|##########| 170/170 [00:00<00:00, 1258.69it/s, train_loss=18.3, valid_loss=18.3]\n",
      "Epoch 15: 100%|##########| 170/170 [00:00<00:00, 1039.40it/s, train_loss=18.4, valid_loss=18.4]\n",
      "Epoch 16: 100%|##########| 170/170 [00:00<00:00, 1150.92it/s, train_loss=18.5, valid_loss=18.5]\n",
      "Epoch 17: 100%|##########| 170/170 [00:00<00:00, 1082.15it/s, train_loss=18.6, valid_loss=18.6]\n",
      "Epoch 18: 100%|##########| 170/170 [00:00<00:00, 1124.39it/s, train_loss=18.7, valid_loss=18.7]\n",
      "Epoch 19: 100%|##########| 170/170 [00:00<00:00, 1122.11it/s, train_loss=18.8, valid_loss=18.8]\n",
      "Epoch 20: 100%|##########| 170/170 [00:00<00:00, 1122.20it/s, train_loss=18.9, valid_loss=18.9]\n",
      "Epoch 21: 100%|##########| 170/170 [00:00<00:00, 1019.98it/s, train_loss=19, valid_loss=19]  \n",
      "Epoch 22: 100%|##########| 170/170 [00:00<00:00, 1115.71it/s, train_loss=19.1, valid_loss=19.1]\n",
      "Epoch 23: 100%|##########| 170/170 [00:00<00:00, 1067.95it/s, train_loss=19.2, valid_loss=19.2]\n",
      "Epoch 24: 100%|##########| 170/170 [00:00<00:00, 1242.67it/s, train_loss=19.3, valid_loss=19.3]\n",
      "Epoch 25: 100%|##########| 170/170 [00:00<00:00, 1048.06it/s, train_loss=19.4, valid_loss=19.4]\n",
      "Epoch 26: 100%|##########| 170/170 [00:00<00:00, 840.57it/s, train_loss=19.5, valid_loss=19.5] \n",
      "Epoch 27: 100%|##########| 170/170 [00:00<00:00, 814.18it/s, train_loss=19.6, valid_loss=19.6]\n",
      "Epoch 28: 100%|##########| 170/170 [00:00<00:00, 1039.38it/s, train_loss=19.7, valid_loss=19.7]\n",
      "Epoch 29: 100%|##########| 170/170 [00:00<00:00, 895.27it/s, train_loss=19.8, valid_loss=19.8]\n",
      "Epoch 30: 100%|##########| 170/170 [00:00<00:00, 978.85it/s, train_loss=19.9, valid_loss=19.9]\n",
      "Epoch 31: 100%|##########| 170/170 [00:00<00:00, 1213.65it/s, train_loss=20, valid_loss=20]    \n",
      "Epoch 32: 100%|##########| 170/170 [00:00<00:00, 1246.41it/s, train_loss=20.1, valid_loss=20.1]\n",
      "Epoch 33: 100%|##########| 170/170 [00:00<00:00, 1244.17it/s, train_loss=20.2, valid_loss=20.2]\n",
      "Epoch 34: 100%|##########| 170/170 [00:00<00:00, 1133.91it/s, train_loss=20.3, valid_loss=20.3]\n",
      "Epoch 35: 100%|##########| 170/170 [00:00<00:00, 1112.22it/s, train_loss=20.4, valid_loss=20.4]\n",
      "Epoch 36: 100%|##########| 170/170 [00:00<00:00, 1101.62it/s, train_loss=20.5, valid_loss=20.5]\n",
      "Epoch 37: 100%|##########| 170/170 [00:00<00:00, 1185.55it/s, train_loss=20.6, valid_loss=20.6]\n",
      "Epoch 38: 100%|##########| 170/170 [00:00<00:00, 1127.04it/s, train_loss=20.7, valid_loss=20.7]\n",
      "Epoch 39: 100%|##########| 170/170 [00:00<00:00, 1212.92it/s, train_loss=20.8, valid_loss=20.8]\n",
      "Epoch 40: 100%|##########| 170/170 [00:00<00:00, 1060.40it/s, train_loss=20.9, valid_loss=20.9]\n",
      "Epoch 41: 100%|##########| 170/170 [00:00<00:00, 1226.12it/s, train_loss=21, valid_loss=21]    \n",
      "Epoch 42: 100%|##########| 170/170 [00:00<00:00, 1072.48it/s, train_loss=21.1, valid_loss=21.1]\n",
      "Epoch 43: 100%|##########| 170/170 [00:00<00:00, 957.17it/s, train_loss=21.2, valid_loss=21.2] \n",
      "Epoch 44: 100%|##########| 170/170 [00:00<00:00, 1016.81it/s, train_loss=21.3, valid_loss=21.3]\n",
      "Epoch 45: 100%|##########| 170/170 [00:00<00:00, 1095.05it/s, train_loss=21.4, valid_loss=21.4]\n",
      "Epoch 46: 100%|##########| 170/170 [00:00<00:00, 1069.12it/s, train_loss=21.5, valid_loss=21.5]\n",
      "Epoch 47: 100%|##########| 170/170 [00:00<00:00, 1237.57it/s, train_loss=21.6, valid_loss=21.6]\n",
      "Epoch 48: 100%|##########| 170/170 [00:00<00:00, 1038.92it/s, train_loss=21.7, valid_loss=21.7]\n",
      "Epoch 49: 100%|##########| 170/170 [00:00<00:00, 1178.32it/s, train_loss=21.8, valid_loss=21.8]\n",
      "Epoch 50: 100%|##########| 170/170 [00:00<00:00, 1125.55it/s, train_loss=21.9, valid_loss=21.9]\n"
     ]
    }
   ],
   "source": [
    "cnnText.train()"
   ]
  },
  {
   "cell_type": "code",
   "execution_count": 15,
   "metadata": {},
   "outputs": [
    {
     "name": "stdout",
     "output_type": "stream",
     "text": [
      "name: \"Adam\"\n",
      "op: \"NoOp\"\n",
      "input: \"^Adam/update_embeddings/embed/group_deps\"\n",
      "input: \"^Adam/update_conv/kernel_3/ApplyAdam\"\n",
      "input: \"^Adam/update_conv/bias_3/ApplyAdam\"\n",
      "input: \"^Adam/update_conv/kernel_4/ApplyAdam\"\n",
      "input: \"^Adam/update_conv/bias_4/ApplyAdam\"\n",
      "input: \"^Adam/update_conv/kernel_5/ApplyAdam\"\n",
      "input: \"^Adam/update_conv/bias_5/ApplyAdam\"\n",
      "input: \"^Adam/update_dense/dense/ApplyAdam\"\n",
      "input: \"^Adam/update_dense/fc_bias/ApplyAdam\"\n",
      "input: \"^Adam/Assign\"\n",
      "input: \"^Adam/Assign_1\"\n",
      "device: \"/device:GPU:0\"\n",
      "\n"
     ]
    }
   ],
   "source": [
    "m = Model(\n",
    "        nkernels=100,\n",
    "        min_filter=3,\n",
    "        max_filter=5,\n",
    "        vocab_size=15000,\n",
    "        num_class=2,\n",
    "        max_len=51,\n",
    "        l2_reg=1,)\n",
    "print(m.train_op)"
   ]
  },
  {
   "cell_type": "code",
   "execution_count": null,
   "metadata": {},
   "outputs": [],
   "source": []
  },
  {
   "cell_type": "code",
   "execution_count": null,
   "metadata": {},
   "outputs": [],
   "source": []
  },
  {
   "cell_type": "code",
   "execution_count": null,
   "metadata": {},
   "outputs": [],
   "source": []
  },
  {
   "cell_type": "code",
   "execution_count": null,
   "metadata": {},
   "outputs": [],
   "source": []
  },
  {
   "cell_type": "code",
   "execution_count": null,
   "metadata": {},
   "outputs": [],
   "source": []
  },
  {
   "cell_type": "code",
   "execution_count": 116,
   "metadata": {},
   "outputs": [],
   "source": [
    "batch_size = 3\n",
    "epochs = 5"
   ]
  },
  {
   "cell_type": "code",
   "execution_count": 117,
   "metadata": {},
   "outputs": [],
   "source": [
    "# N // batch_size "
   ]
  },
  {
   "cell_type": "code",
   "execution_count": null,
   "metadata": {},
   "outputs": [],
   "source": [
    "def train(epochs, batch_size, X, y):\n",
    "    N = X.shape[0]\n",
    "    pointer = 0\n",
    "    for e in range(epochs):\n",
    "        x_out = X[pointer: pointer+batch_size, :]\n",
    "        y_out = y[pointer: pointer+batch_size]\n",
    "#         for bs in range(batch_size):\n",
    "        x_out.append(X[(pointer + bs) % N])\n",
    "        print(x_out)\n",
    "        pointer += batch_size\n",
    "        "
   ]
  },
  {
   "cell_type": "code",
   "execution_count": 129,
   "metadata": {},
   "outputs": [],
   "source": [
    "pointer = 0"
   ]
  },
  {
   "cell_type": "code",
   "execution_count": 131,
   "metadata": {},
   "outputs": [
    {
     "data": {
      "text/plain": [
       "array([0, 1, 1])"
      ]
     },
     "execution_count": 131,
     "metadata": {},
     "output_type": "execute_result"
    }
   ],
   "source": [
    "y[0:3]"
   ]
  },
  {
   "cell_type": "code",
   "execution_count": 130,
   "metadata": {},
   "outputs": [
    {
     "data": {
      "text/plain": [
       "(3, 51)"
      ]
     },
     "execution_count": 130,
     "metadata": {},
     "output_type": "execute_result"
    }
   ],
   "source": [
    ".shape"
   ]
  },
  {
   "cell_type": "code",
   "execution_count": 133,
   "metadata": {},
   "outputs": [],
   "source": [
    "import numpy as np"
   ]
  },
  {
   "cell_type": "code",
   "execution_count": null,
   "metadata": {},
   "outputs": [],
   "source": [
    "np.loa"
   ]
  },
  {
   "cell_type": "code",
   "execution_count": 80,
   "metadata": {},
   "outputs": [
    {
     "data": {
      "text/plain": [
       "[0,\n",
       " 3,\n",
       " 6,\n",
       " 9,\n",
       " 12,\n",
       " 15,\n",
       " 18,\n",
       " 21,\n",
       " 24,\n",
       " 27,\n",
       " 30,\n",
       " 33,\n",
       " 36,\n",
       " 39,\n",
       " 42,\n",
       " 45,\n",
       " 48,\n",
       " 51,\n",
       " 54,\n",
       " 57,\n",
       " 60,\n",
       " 63]"
      ]
     },
     "execution_count": 80,
     "metadata": {},
     "output_type": "execute_result"
    }
   ],
   "source": [
    "[*range(0, 65, 3)]"
   ]
  },
  {
   "cell_type": "code",
   "execution_count": null,
   "metadata": {},
   "outputs": [],
   "source": []
  }
 ],
 "metadata": {
  "kernelspec": {
   "display_name": "Python 3",
   "language": "python",
   "name": "python3"
  },
  "language_info": {
   "codemirror_mode": {
    "name": "ipython",
    "version": 3
   },
   "file_extension": ".py",
   "mimetype": "text/x-python",
   "name": "python",
   "nbconvert_exporter": "python",
   "pygments_lexer": "ipython3",
   "version": "3.6.3"
  },
  "toc": {
   "base_numbering": 1,
   "nav_menu": {},
   "number_sections": true,
   "sideBar": true,
   "skip_h1_title": false,
   "title_cell": "Table of Contents",
   "title_sidebar": "Contents",
   "toc_cell": false,
   "toc_position": {},
   "toc_section_display": true,
   "toc_window_display": false
  }
 },
 "nbformat": 4,
 "nbformat_minor": 2
}
